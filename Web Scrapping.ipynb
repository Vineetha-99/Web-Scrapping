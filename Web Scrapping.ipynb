{
  "nbformat": 4,
  "nbformat_minor": 0,
  "metadata": {
    "colab": {
      "name": "Tenovia2.ipynb",
      "provenance": []
    },
    "kernelspec": {
      "name": "python3",
      "display_name": "Python 3"
    }
  },
  "cells": [
    {
      "cell_type": "code",
      "metadata": {
        "id": "vYZD3JKE0be5"
      },
      "source": [
        "from bs4 import BeautifulSoup \n",
        "import requests\n",
        "import csv \n",
        "from tabulate import tabulate"
      ],
      "execution_count": 266,
      "outputs": []
    },
    {
      "cell_type": "code",
      "metadata": {
        "id": "WgngXupL0noo"
      },
      "source": [
        "h = {\"User-Agent\":\"Mozilla/5.0 (Windows NT 10.0; Win64; x64; rv:66.0) Gecko/20100101 Firefox/66.0\", \"Accept-Encoding\":\"gzip, deflate\", \"Accept\":\"text/html,application/xhtml+xml,application/xml;q=0.9,*/*;q=0.8\", \"DNT\":\"1\",\"Connection\":\"close\", \"Upgrade-Insecure-Requests\":\"1\"}\n",
        "url1 = 'https://www.amazon.in/gp/bestsellers/shoes/1983396031/ref=zg_bs_nav_%22s%22_1_%22s%22'\n",
        "res1 = requests.get(url1, headers=h)\n",
        "soup1 = BeautifulSoup(res1.content)"
      ],
      "execution_count": 267,
      "outputs": []
    },
    {
      "cell_type": "code",
      "metadata": {
        "id": "gjNamDLC6MHq"
      },
      "source": [
        "# BeautifulSoup(res1.content,'html.parser').prettify"
      ],
      "execution_count": 268,
      "outputs": []
    },
    {
      "cell_type": "markdown",
      "metadata": {
        "id": "Q7D9wbakhADV"
      },
      "source": [
        "# **Level 1 - Extracting Ratings(stars)” for a list of products/ASINs:**"
      ]
    },
    {
      "cell_type": "code",
      "metadata": {
        "colab": {
          "base_uri": "https://localhost:8080/"
        },
        "id": "ekMZK1A_34b6",
        "outputId": "b2b43ca3-fcc7-4d66-9e93-96fb7b076b34"
      },
      "source": [
        "rate = []\n",
        "for d in soup1.findAll('div', attrs={'class':'a-section a-spacing-none aok-relative'}):\n",
        "        Pname = d.find('span', attrs={'class':'zg-text-center-align'})\n",
        "        n = Pname.find_all('img', alt=True)\n",
        "        rating = d.find('span', attrs={'class':'a-icon-alt'})\n",
        "\n",
        "        l1=[]\n",
        "\n",
        "        if pname is not None:\n",
        "            l1.append(n[0]['alt'])\n",
        "        else:\n",
        "            l1.append(\"unknown-product\")\n",
        "\n",
        "        if rating is not None:\n",
        "            l1.append(rating.text)\n",
        "        else:\n",
        "            l1.append('-1') \n",
        "\n",
        "        rate.append(l1)   \n",
        "\n",
        "print(rate)"
      ],
      "execution_count": 269,
      "outputs": [
        {
          "output_type": "stream",
          "text": [
            "[[\"ASIAN Men's Wonder-13 Mesh Sports Running Shoes\", '4.1 out of 5 stars'], [\"PARAGON Men's Flip-Flops\", '4.2 out of 5 stars'], [\"Flite Men's Flip Flops Thong Sandals\", '4.0 out of 5 stars'], [\"DOCTOR EXTRA SOFT Women's Ortho Slippers\", '4.0 out of 5 stars'], [\"BAHAMAS Men's Flip-Flops\", '4.3 out of 5 stars'], [\"T-Rock Men's Running Shoes\", '3.1 out of 5 stars'], [\"Soft Doctor Slippers for Women's\", '4.1 out of 5 stars'], [\"PARAGON Men's Flip-Flops\", '3.5 out of 5 stars'], [\"Campus Men's Oxyfit Running Shoes\", '4.1 out of 5 stars'], [\"ASIAN Men's Kosko Mesh Sports Running Shoes\", '3.8 out of 5 stars'], [\"Relaxo Men's House Slippers\", '4.3 out of 5 stars'], [\"Sparx Men's Flip-Flops and House Slippers\", '4.2 out of 5 stars'], [\"Bourge Men's Loire-63 Running Shoes\", '4.1 out of 5 stars'], ['Sparx Men SFG-14 Flip Flops', '4.3 out of 5 stars'], [\"TRASE Women's Doctor Ortho Slippers\", '4.0 out of 5 stars'], [\"ASIAN Men's Superfit Running,Walking,Gym,Sports Shoes\", '3.8 out of 5 stars'], [\"Sparx Men's Sd0323g Sneakers\", '4.2 out of 5 stars'], [\"FLITE Women's Flip-Flops\", '4.2 out of 5 stars'], ['VRITRAZ Women Comfort Slip On Closed Toe Indoor Clog House Slipper', '3.8 out of 5 stars'], [\"Bourge Men's Vega-1 Running Shoes\", '4.3 out of 5 stars'], ['DEKKIN Faux Fur Slip On Home/Indoor Fancy Fluffy Winter Slipper for Men and Boys - Brown', '4.1 out of 5 stars'], [\"Paragon Men's Flip Flops\", '4.0 out of 5 stars'], [\"K' FOOTLANCE Men's Running Sports Shoes for Man\", '3.7 out of 5 stars'], [\"Sparx Men's Flip-Flops and House Slippers\", '4.2 out of 5 stars'], [\"Knoos Men's Loafer\", '3.7 out of 5 stars'], [\"BAHAMAS Men's Flip-Flops\", '4.4 out of 5 stars'], [\"FLITE Men's Flip Flops Thong Sandals\", '4.0 out of 5 stars'], [\"Ethics Men's Running Shoes\", '3.6 out of 5 stars'], ['ASIAN Century-12 Running,Walking,Sports Shoes for Men', '4.0 out of 5 stars'], [\"Bourge Men's Vega-6 Running Shoes\", '4.3 out of 5 stars'], ['Zerol Waterproof Casual Sandals for Mens/Boys, Slippers & Flip Flops', '3.8 out of 5 stars'], [\"ASIAN Women's Running Shoes\", '4.2 out of 5 stars'], [\"WORLD WEAR FOOTWEAR Men's Multicolor Sports Running Shoes (Set of 2 Pairs)\", '2.6 out of 5 stars'], [\"Ethics Stylish Blue Rubber Clogs for Men's\", '3.6 out of 5 stars'], [\"WORLD WEAR FOOTWEAR Men's Multicolor Sports Running Shoes (Set of 2)\", '2.7 out of 5 stars'], [\"Denill Star Laser Cut Sneakers for Women's\", '4.0 out of 5 stars'], [\"Asian Women's Modern Shoes\", '3.9 out of 5 stars'], [\"Amazon Brand - Symactive Men's Running Shoes\", '4.1 out of 5 stars'], [\"Campus Women's Alice Running Shoes\", '4.5 out of 5 stars'], [\"TRASE Relax Men's Running Shoes\", '3.9 out of 5 stars'], [\"United Colors of Benetton Men's EVA Flip-Flops and House Slippers\", '4.0 out of 5 stars'], ['Sparx Mens Sf0541g Flip-Flops', '3.9 out of 5 stars'], ['DRUNKEN Slipper for Women Flip Flops Winter Carpet Slippers for Bedrooms Sandals', '3.1 out of 5 stars'], [\"Sparx Men's Ss0453g Outdoor Sandals\", '4.1 out of 5 stars'], [\"Bourge Men's Vega-5 Running Shoes\", '4.2 out of 5 stars'], ['Lotto Men Vertigo', '4.1 out of 5 stars'], ['Mactree Men Flexible-Stitched Sole Premium Formal Shoes for Men', '3.5 out of 5 stars'], [\"ASIAN Women's Running Shoes\", '4.0 out of 5 stars'], [\"BAHAMAS Men's Flip Flops Thong Sandals\", '4.4 out of 5 stars'], [\"ASIAN Men's Running Shoes\", '3.9 out of 5 stars']]\n"
          ],
          "name": "stdout"
        }
      ]
    },
    {
      "cell_type": "code",
      "metadata": {
        "colab": {
          "base_uri": "https://localhost:8080/"
        },
        "id": "ont-kmW-Dvxh",
        "outputId": "ecdd0247-eb2d-4b8a-a069-c64887700c44"
      },
      "source": [
        "head1 = ['Footwear','Rating(stars)']\n",
        "print(tabulate(rate, headers=head1))\n",
        "f = \"test1.csv\"\n",
        "  \n",
        "with open(f, 'w') as csvf: \n",
        "    p = csv.writer(csvf) \n",
        "    p.writerow(head1) \n",
        "    p.writerows(rate)"
      ],
      "execution_count": 270,
      "outputs": [
        {
          "output_type": "stream",
          "text": [
            "Footwear                                                                                  Rating(stars)\n",
            "----------------------------------------------------------------------------------------  ------------------\n",
            "ASIAN Men's Wonder-13 Mesh Sports Running Shoes                                           4.1 out of 5 stars\n",
            "PARAGON Men's Flip-Flops                                                                  4.2 out of 5 stars\n",
            "Flite Men's Flip Flops Thong Sandals                                                      4.0 out of 5 stars\n",
            "DOCTOR EXTRA SOFT Women's Ortho Slippers                                                  4.0 out of 5 stars\n",
            "BAHAMAS Men's Flip-Flops                                                                  4.3 out of 5 stars\n",
            "T-Rock Men's Running Shoes                                                                3.1 out of 5 stars\n",
            "Soft Doctor Slippers for Women's                                                          4.1 out of 5 stars\n",
            "PARAGON Men's Flip-Flops                                                                  3.5 out of 5 stars\n",
            "Campus Men's Oxyfit Running Shoes                                                         4.1 out of 5 stars\n",
            "ASIAN Men's Kosko Mesh Sports Running Shoes                                               3.8 out of 5 stars\n",
            "Relaxo Men's House Slippers                                                               4.3 out of 5 stars\n",
            "Sparx Men's Flip-Flops and House Slippers                                                 4.2 out of 5 stars\n",
            "Bourge Men's Loire-63 Running Shoes                                                       4.1 out of 5 stars\n",
            "Sparx Men SFG-14 Flip Flops                                                               4.3 out of 5 stars\n",
            "TRASE Women's Doctor Ortho Slippers                                                       4.0 out of 5 stars\n",
            "ASIAN Men's Superfit Running,Walking,Gym,Sports Shoes                                     3.8 out of 5 stars\n",
            "Sparx Men's Sd0323g Sneakers                                                              4.2 out of 5 stars\n",
            "FLITE Women's Flip-Flops                                                                  4.2 out of 5 stars\n",
            "VRITRAZ Women Comfort Slip On Closed Toe Indoor Clog House Slipper                        3.8 out of 5 stars\n",
            "Bourge Men's Vega-1 Running Shoes                                                         4.3 out of 5 stars\n",
            "DEKKIN Faux Fur Slip On Home/Indoor Fancy Fluffy Winter Slipper for Men and Boys - Brown  4.1 out of 5 stars\n",
            "Paragon Men's Flip Flops                                                                  4.0 out of 5 stars\n",
            "K' FOOTLANCE Men's Running Sports Shoes for Man                                           3.7 out of 5 stars\n",
            "Sparx Men's Flip-Flops and House Slippers                                                 4.2 out of 5 stars\n",
            "Knoos Men's Loafer                                                                        3.7 out of 5 stars\n",
            "BAHAMAS Men's Flip-Flops                                                                  4.4 out of 5 stars\n",
            "FLITE Men's Flip Flops Thong Sandals                                                      4.0 out of 5 stars\n",
            "Ethics Men's Running Shoes                                                                3.6 out of 5 stars\n",
            "ASIAN Century-12 Running,Walking,Sports Shoes for Men                                     4.0 out of 5 stars\n",
            "Bourge Men's Vega-6 Running Shoes                                                         4.3 out of 5 stars\n",
            "Zerol Waterproof Casual Sandals for Mens/Boys, Slippers & Flip Flops                      3.8 out of 5 stars\n",
            "ASIAN Women's Running Shoes                                                               4.2 out of 5 stars\n",
            "WORLD WEAR FOOTWEAR Men's Multicolor Sports Running Shoes (Set of 2 Pairs)                2.6 out of 5 stars\n",
            "Ethics Stylish Blue Rubber Clogs for Men's                                                3.6 out of 5 stars\n",
            "WORLD WEAR FOOTWEAR Men's Multicolor Sports Running Shoes (Set of 2)                      2.7 out of 5 stars\n",
            "Denill Star Laser Cut Sneakers for Women's                                                4.0 out of 5 stars\n",
            "Asian Women's Modern Shoes                                                                3.9 out of 5 stars\n",
            "Amazon Brand - Symactive Men's Running Shoes                                              4.1 out of 5 stars\n",
            "Campus Women's Alice Running Shoes                                                        4.5 out of 5 stars\n",
            "TRASE Relax Men's Running Shoes                                                           3.9 out of 5 stars\n",
            "United Colors of Benetton Men's EVA Flip-Flops and House Slippers                         4.0 out of 5 stars\n",
            "Sparx Mens Sf0541g Flip-Flops                                                             3.9 out of 5 stars\n",
            "DRUNKEN Slipper for Women Flip Flops Winter Carpet Slippers for Bedrooms Sandals          3.1 out of 5 stars\n",
            "Sparx Men's Ss0453g Outdoor Sandals                                                       4.1 out of 5 stars\n",
            "Bourge Men's Vega-5 Running Shoes                                                         4.2 out of 5 stars\n",
            "Lotto Men Vertigo                                                                         4.1 out of 5 stars\n",
            "Mactree Men Flexible-Stitched Sole Premium Formal Shoes for Men                           3.5 out of 5 stars\n",
            "ASIAN Women's Running Shoes                                                               4.0 out of 5 stars\n",
            "BAHAMAS Men's Flip Flops Thong Sandals                                                    4.4 out of 5 stars\n",
            "ASIAN Men's Running Shoes                                                                 3.9 out of 5 stars\n"
          ],
          "name": "stdout"
        }
      ]
    },
    {
      "cell_type": "markdown",
      "metadata": {
        "id": "4MS8Ev9BhL1V"
      },
      "source": [
        "# **Level 2 -  Level 1 + Extracting global ratings:**"
      ]
    },
    {
      "cell_type": "code",
      "metadata": {
        "colab": {
          "base_uri": "https://localhost:8080/"
        },
        "id": "pYNpvjfoXeyY",
        "outputId": "6eeb1d7a-baa7-4088-913c-711de07a9f44"
      },
      "source": [
        "gRate = []\n",
        "for d in soup.findAll('div', attrs={'class':'a-section a-spacing-none aok-relative'}):\n",
        "        Pname = d.find('span', attrs={'class':'zg-text-center-align'})\n",
        "        n = Pname.find_all('img', alt=True)\n",
        "        rating = d.find('span', attrs={'class':'a-icon-alt'})  \n",
        "        users_rated = d.find('a', attrs={'class':'a-size-small a-link-normal'})\n",
        "\n",
        "        l2=[]\n",
        "\n",
        "        if Pname is not None:\n",
        "            l2.append(n[0]['alt'])\n",
        "        else:\n",
        "            l2.append(\"unknown-product\")\n",
        "\n",
        "        if rating is not None:\n",
        "            l2.append(rating.text)\n",
        "        else:\n",
        "            l2.append('-1')\n",
        "\n",
        "        if users_rated is not None:\n",
        "            l2.append(users_rated.text)\n",
        "        else:\n",
        "            l2.append('0')   \n",
        "        \n",
        "        gRate.append(l2)   \n",
        "\n",
        "print(gRate)"
      ],
      "execution_count": 271,
      "outputs": [
        {
          "output_type": "stream",
          "text": [
            "[[\"ASIAN Men's Wonder-13 Mesh Sports Running Shoes\", '4.1 out of 5 stars', '19,712'], [\"Flite Men's Flip Flops Thong Sandals\", '4.0 out of 5 stars', '7,566'], [\"PARAGON Men's Flip-Flops\", '4.2 out of 5 stars', '3,991'], [\"DOCTOR EXTRA SOFT Women's Ortho Slippers\", '4.0 out of 5 stars', '9,847'], [\"BAHAMAS Men's Flip-Flops\", '4.3 out of 5 stars', '4,126'], [\"T-Rock Men's Running Shoes\", '3.1 out of 5 stars', '666'], [\"PARAGON Men's Flip-Flops\", '3.5 out of 5 stars', '2,624'], [\"Soft Doctor Slippers for Women's\", '4.1 out of 5 stars', '660'], [\"ASIAN Men's Kosko Mesh Sports Running Shoes\", '3.8 out of 5 stars', '3,705'], [\"Campus Men's Oxyfit Running Shoes\", '4.1 out of 5 stars', '1,731'], [\"Bourge Men's Loire-63 Running Shoes\", '4.1 out of 5 stars', '1,187'], [\"Sparx Men's Flip-Flops and House Slippers\", '4.2 out of 5 stars', '8,829'], [\"Relaxo Men's House Slippers\", '4.3 out of 5 stars', '3,877'], [\"TRASE Women's Doctor Ortho Slippers\", '4.0 out of 5 stars', '3,027'], [\"ASIAN Men's Superfit Running,Walking,Gym,Sports Shoes\", '3.8 out of 5 stars', '2,172'], ['Sparx Men SFG-14 Flip Flops', '4.3 out of 5 stars', '10,349'], [\"Sparx Men's Sd0323g Sneakers\", '4.2 out of 5 stars', '11,189'], ['VRITRAZ Women Comfort Slip On Closed Toe Indoor Clog House Slipper', '3.8 out of 5 stars', '504'], [\"FLITE Women's Flip-Flops\", '4.2 out of 5 stars', '5,926'], [\"Bourge Men's Vega-1 Running Shoes\", '4.3 out of 5 stars', '4,403'], [\"FLITE Men's Flip Flops Thong Sandals\", '4.0 out of 5 stars', '2,796'], [\"K' FOOTLANCE Men's Running Sports Shoes for Man\", '3.7 out of 5 stars', '97'], [\"Knoos Men's Loafer\", '3.7 out of 5 stars', '3,315'], [\"Paragon Men's Flip Flops\", '4.0 out of 5 stars', '1,377'], ['Zerol Waterproof Casual Sandals for Mens/Boys, Slippers & Flip Flops', '3.8 out of 5 stars', '1,656'], ['DEKKIN Faux Fur Slip On Home/Indoor Fancy Fluffy Winter Slipper for Men and Boys - Brown', '4.1 out of 5 stars', '40'], [\"Ethics Men's Running Shoes\", '3.6 out of 5 stars', '2,336'], [\"BAHAMAS Men's Flip-Flops\", '4.4 out of 5 stars', '1,166'], [\"Bourge Men's Vega-6 Running Shoes\", '4.3 out of 5 stars', '1,350'], [\"Sparx Men's Flip-Flops and House Slippers\", '4.2 out of 5 stars', '5,595'], ['ASIAN Century-12 Running,Walking,Sports Shoes for Men', '4.0 out of 5 stars', '377'], [\"Amazon Brand - Symactive Men's Running Shoes\", '4.1 out of 5 stars', '193'], [\"ASIAN Women's Running Shoes\", '4.2 out of 5 stars', '1,090'], [\"Ethics Stylish Blue Rubber Clogs for Men's\", '3.6 out of 5 stars', '3,021'], [\"WORLD WEAR FOOTWEAR Men's Multicolor Sports Running Shoes (Set of 2 Pairs)\", '2.6 out of 5 stars', '268'], [\"Asian Women's Modern Shoes\", '3.9 out of 5 stars', '1,639'], [\"Denill Star Laser Cut Sneakers for Women's\", '4.0 out of 5 stars', '2,729'], [\"WORLD WEAR FOOTWEAR Men's Multicolor Sports Running Shoes (Set of 2)\", '2.7 out of 5 stars', '267'], ['Sparx Mens Sf0541g Flip-Flops', '3.9 out of 5 stars', '2,279'], ['Lotto Men Vertigo', '4.1 out of 5 stars', '7,945'], [\"Sparx Men's Ss0453g Outdoor Sandals\", '4.1 out of 5 stars', '4,949'], ['DRUNKEN Slipper for Women Flip Flops Winter Carpet Slippers for Bedrooms Sandals', '3.1 out of 5 stars', '176'], [\"DOCTOR EXTRA SOFT Men's Slipper\", '4.0 out of 5 stars', '2,063'], [\"Travelkhushi Unisex's Sliders\", '3.3 out of 5 stars', '1,176'], [\"Bourge Men's Vega-5 Running Shoes\", '4.2 out of 5 stars', '1,637'], [\"TRASE Relax Men's Running Shoes\", '3.9 out of 5 stars', '2,583'], [\"ASIAN Women's Running Shoes\", '4.0 out of 5 stars', '2,179'], [\"Denill Women's Sports Shoes\", '3.9 out of 5 stars', '872'], [\"Campus Women's Alice Running Shoes\", '4.5 out of 5 stars', '77'], ['Mactree Men Flexible-Stitched Sole Premium Formal Shoes for Men', '3.5 out of 5 stars', '97']]\n"
          ],
          "name": "stdout"
        }
      ]
    },
    {
      "cell_type": "code",
      "metadata": {
        "colab": {
          "base_uri": "https://localhost:8080/"
        },
        "id": "Pe5fE5sNbFX3",
        "outputId": "85b6d735-3556-4c48-9a29-4277e9b161c9"
      },
      "source": [
        "import csv \n",
        "from tabulate import tabulate\n",
        "\n",
        "head2 = ['Footwear','Rating(stars)','Global Rating']\n",
        "print(tabulate(gRate, headers=head2))\n",
        "f = \"test2.csv\"\n",
        "  \n",
        "# writing to csv file \n",
        "with open(f, 'w') as csvf: \n",
        "    p = csv.writer(csvf) \n",
        "    p.writerow(head2) \n",
        "    p.writerows(gRate)"
      ],
      "execution_count": 272,
      "outputs": [
        {
          "output_type": "stream",
          "text": [
            "Footwear                                                                                  Rating(stars)       Global Rating\n",
            "----------------------------------------------------------------------------------------  ------------------  ---------------\n",
            "ASIAN Men's Wonder-13 Mesh Sports Running Shoes                                           4.1 out of 5 stars  19,712\n",
            "Flite Men's Flip Flops Thong Sandals                                                      4.0 out of 5 stars  7,566\n",
            "PARAGON Men's Flip-Flops                                                                  4.2 out of 5 stars  3,991\n",
            "DOCTOR EXTRA SOFT Women's Ortho Slippers                                                  4.0 out of 5 stars  9,847\n",
            "BAHAMAS Men's Flip-Flops                                                                  4.3 out of 5 stars  4,126\n",
            "T-Rock Men's Running Shoes                                                                3.1 out of 5 stars  666\n",
            "PARAGON Men's Flip-Flops                                                                  3.5 out of 5 stars  2,624\n",
            "Soft Doctor Slippers for Women's                                                          4.1 out of 5 stars  660\n",
            "ASIAN Men's Kosko Mesh Sports Running Shoes                                               3.8 out of 5 stars  3,705\n",
            "Campus Men's Oxyfit Running Shoes                                                         4.1 out of 5 stars  1,731\n",
            "Bourge Men's Loire-63 Running Shoes                                                       4.1 out of 5 stars  1,187\n",
            "Sparx Men's Flip-Flops and House Slippers                                                 4.2 out of 5 stars  8,829\n",
            "Relaxo Men's House Slippers                                                               4.3 out of 5 stars  3,877\n",
            "TRASE Women's Doctor Ortho Slippers                                                       4.0 out of 5 stars  3,027\n",
            "ASIAN Men's Superfit Running,Walking,Gym,Sports Shoes                                     3.8 out of 5 stars  2,172\n",
            "Sparx Men SFG-14 Flip Flops                                                               4.3 out of 5 stars  10,349\n",
            "Sparx Men's Sd0323g Sneakers                                                              4.2 out of 5 stars  11,189\n",
            "VRITRAZ Women Comfort Slip On Closed Toe Indoor Clog House Slipper                        3.8 out of 5 stars  504\n",
            "FLITE Women's Flip-Flops                                                                  4.2 out of 5 stars  5,926\n",
            "Bourge Men's Vega-1 Running Shoes                                                         4.3 out of 5 stars  4,403\n",
            "FLITE Men's Flip Flops Thong Sandals                                                      4.0 out of 5 stars  2,796\n",
            "K' FOOTLANCE Men's Running Sports Shoes for Man                                           3.7 out of 5 stars  97\n",
            "Knoos Men's Loafer                                                                        3.7 out of 5 stars  3,315\n",
            "Paragon Men's Flip Flops                                                                  4.0 out of 5 stars  1,377\n",
            "Zerol Waterproof Casual Sandals for Mens/Boys, Slippers & Flip Flops                      3.8 out of 5 stars  1,656\n",
            "DEKKIN Faux Fur Slip On Home/Indoor Fancy Fluffy Winter Slipper for Men and Boys - Brown  4.1 out of 5 stars  40\n",
            "Ethics Men's Running Shoes                                                                3.6 out of 5 stars  2,336\n",
            "BAHAMAS Men's Flip-Flops                                                                  4.4 out of 5 stars  1,166\n",
            "Bourge Men's Vega-6 Running Shoes                                                         4.3 out of 5 stars  1,350\n",
            "Sparx Men's Flip-Flops and House Slippers                                                 4.2 out of 5 stars  5,595\n",
            "ASIAN Century-12 Running,Walking,Sports Shoes for Men                                     4.0 out of 5 stars  377\n",
            "Amazon Brand - Symactive Men's Running Shoes                                              4.1 out of 5 stars  193\n",
            "ASIAN Women's Running Shoes                                                               4.2 out of 5 stars  1,090\n",
            "Ethics Stylish Blue Rubber Clogs for Men's                                                3.6 out of 5 stars  3,021\n",
            "WORLD WEAR FOOTWEAR Men's Multicolor Sports Running Shoes (Set of 2 Pairs)                2.6 out of 5 stars  268\n",
            "Asian Women's Modern Shoes                                                                3.9 out of 5 stars  1,639\n",
            "Denill Star Laser Cut Sneakers for Women's                                                4.0 out of 5 stars  2,729\n",
            "WORLD WEAR FOOTWEAR Men's Multicolor Sports Running Shoes (Set of 2)                      2.7 out of 5 stars  267\n",
            "Sparx Mens Sf0541g Flip-Flops                                                             3.9 out of 5 stars  2,279\n",
            "Lotto Men Vertigo                                                                         4.1 out of 5 stars  7,945\n",
            "Sparx Men's Ss0453g Outdoor Sandals                                                       4.1 out of 5 stars  4,949\n",
            "DRUNKEN Slipper for Women Flip Flops Winter Carpet Slippers for Bedrooms Sandals          3.1 out of 5 stars  176\n",
            "DOCTOR EXTRA SOFT Men's Slipper                                                           4.0 out of 5 stars  2,063\n",
            "Travelkhushi Unisex's Sliders                                                             3.3 out of 5 stars  1,176\n",
            "Bourge Men's Vega-5 Running Shoes                                                         4.2 out of 5 stars  1,637\n",
            "TRASE Relax Men's Running Shoes                                                           3.9 out of 5 stars  2,583\n",
            "ASIAN Women's Running Shoes                                                               4.0 out of 5 stars  2,179\n",
            "Denill Women's Sports Shoes                                                               3.9 out of 5 stars  872\n",
            "Campus Women's Alice Running Shoes                                                        4.5 out of 5 stars  77\n",
            "Mactree Men Flexible-Stitched Sole Premium Formal Shoes for Men                           3.5 out of 5 stars  97\n"
          ],
          "name": "stdout"
        }
      ]
    },
    {
      "cell_type": "markdown",
      "metadata": {
        "id": "fJQWqMJcBHO9"
      },
      "source": [
        "# **Level 2 - Percentage distribution of Star ratings for a product:**"
      ]
    },
    {
      "cell_type": "code",
      "metadata": {
        "id": "g19VEpHgubed"
      },
      "source": [
        "url2 = 'https://www.amazon.in/product-reviews/B07FG362HN/ref=zg_bs_1983396031_cr_2?ie=UTF8&refRID=N708PB58N3YQN21PACC9'\n",
        "res2 = requests.get(url2, headers=h)\n",
        "soup2 = BeautifulSoup(res2.content)"
      ],
      "execution_count": 273,
      "outputs": []
    },
    {
      "cell_type": "code",
      "metadata": {
        "colab": {
          "base_uri": "https://localhost:8080/"
        },
        "id": "YKVE1ACDuGei",
        "outputId": "671e3524-97c2-48d4-b1fb-24d1038462e6"
      },
      "source": [
        "ind = []\n",
        "for d in soup2.findAll('table', attrs={'class':'a-normal a-align-center a-spacing-base'}) and soup2.findAll('tr', attrs={'class':'a-histogram-row a-align-center'}):\n",
        "        star = d.find('td', attrs={'class':'aok-nowrap'})\n",
        "        percent = d.find('td', attrs={'class':'a-text-right a-nowrap'})  \n",
        "\n",
        "        l3=[]\n",
        "\n",
        "        if star is not None:\n",
        "            l3.append(star.text)\n",
        "        else:\n",
        "            l3.append('None')\n",
        "\n",
        "        if percent is not None:\n",
        "            l3.append(percent.text)\n",
        "        else:\n",
        "            l3.append('0')   \n",
        "\n",
        "        ind.append(l3)  \n",
        "\n",
        "print(ind)       "
      ],
      "execution_count": 274,
      "outputs": [
        {
          "output_type": "stream",
          "text": [
            "[['\\n\\n\\n            5 star\\n          \\n\\n\\n', '\\n\\n\\n\\n            \\n              50%\\n            \\n          \\n\\n'], ['\\n\\n\\n            4 star\\n          \\n\\n\\n', '\\n\\n\\n\\n            \\n              25%\\n            \\n          \\n\\n'], ['\\n\\n\\n            3 star\\n          \\n\\n\\n', '\\n\\n\\n\\n            \\n              11%\\n            \\n          \\n\\n'], ['\\n\\n\\n            2 star\\n          \\n\\n\\n', '\\n\\n\\n\\n            \\n              4%\\n            \\n          \\n\\n'], ['\\n\\n\\n            1 star\\n          \\n\\n\\n', '\\n\\n\\n\\n            \\n              9%\\n            \\n          \\n\\n']]\n"
          ],
          "name": "stdout"
        }
      ]
    },
    {
      "cell_type": "code",
      "metadata": {
        "colab": {
          "base_uri": "https://localhost:8080/"
        },
        "id": "m5sWAv-Fzz-U",
        "outputId": "43fe0d90-e7ca-4af6-f495-cb1ea78461ad"
      },
      "source": [
        "print(\"For 'Flite Men's Flip Flops Thong Sandals' with 4.0 out of 5 stars :\\n\\n\",tabulate(ind))"
      ],
      "execution_count": 275,
      "outputs": [
        {
          "output_type": "stream",
          "text": [
            "For 'Flite Men's Flip Flops Thong Sandals' with 4.0 out of 5 stars :\n",
            "\n",
            " ------  ---\n",
            "5 star  50%\n",
            "4 star  25%\n",
            "3 star  11%\n",
            "2 star  4%\n",
            "1 star  9%\n",
            "------  ---\n"
          ],
          "name": "stdout"
        }
      ]
    },
    {
      "cell_type": "markdown",
      "metadata": {
        "id": "VLMdwxgJBZiS"
      },
      "source": [
        "# **Level 3 - Customer Reviews for a product:**"
      ]
    },
    {
      "cell_type": "code",
      "metadata": {
        "colab": {
          "base_uri": "https://localhost:8080/"
        },
        "id": "ckd3dIbxa54w",
        "outputId": "a744074b-5a85-4940-f92d-7c6b6d6bae33"
      },
      "source": [
        "cust = []\n",
        "for d in soup2.findAll('div', attrs={'class':'a-section a-spacing-none review-views celwidget'}) and soup2.findAll('div', attrs={'class':'a-row a-spacing-none'}) :\n",
        "        Cname = d.find('span', attrs={'class':'a-profile-name'})\n",
        "        comment = d.find('a', attrs={'class':'a-size-base a-link-normal review-title a-color-base review-title-content a-text-bold'})  \n",
        "\n",
        "        l4=[]\n",
        "\n",
        "        if Cname is not None:\n",
        "            l4.append(Cname.text)\n",
        "        else:\n",
        "            l4.append('Unknown')\n",
        "\n",
        "        if comment is not None:\n",
        "            l4.append(comment.text)\n",
        "        else:\n",
        "            l4.append('0')     \n",
        "\n",
        "        cust.append(l4)  \n",
        "\n",
        "print(cust)       "
      ],
      "execution_count": 276,
      "outputs": [
        {
          "output_type": "stream",
          "text": [
            "[['sushant kumar', '\\nSame size with different length\\n'], ['Utkarsh Agarwal', '\\ngood\\n'], ['Venugopal Pillai', '\\nOrder at least one size bigger\\n'], ['Dewan G.', '\\n150 ka chappal hai.. But mast hai\\n'], ['Rajdeepsinh', '\\nBest flip flop.\\n'], ['TRIPTI P.', '\\nLove the product for the price and quality\\n'], ['DG', \"\\nIt's a different shape\\n\"], ['TARUN ABHINAY Raj ', '\\nNot  suitable for outdoor usage\\n'], ['Rajesh G', '\\nComfortable to walk\\n'], ['kasiah', '\\nUseful\\n']]\n"
          ],
          "name": "stdout"
        }
      ]
    },
    {
      "cell_type": "code",
      "metadata": {
        "colab": {
          "base_uri": "https://localhost:8080/"
        },
        "id": "gHKyfRmC-LKv",
        "outputId": "57a49bb0-9e8b-46b1-d3c3-0f69b6043d65"
      },
      "source": [
        "import csv \n",
        "from tabulate import tabulate\n",
        "print(\"For 'Flite Men's Flip Flops Thong Sandals' - Customer reviews :\\n\")\n",
        "\n",
        "head3 = ['Customer Name','Review']\n",
        "print(tabulate(cust,headers=head3))\n",
        "f = \"test3.csv\"\n",
        "  \n",
        "# writing to csv file \n",
        "with open(f, 'w') as csvf: \n",
        "    p = csv.writer(csvf) \n",
        "    p.writerow(head3) \n",
        "    p.writerows(cust)"
      ],
      "execution_count": 277,
      "outputs": [
        {
          "output_type": "stream",
          "text": [
            "For 'Flite Men's Flip Flops Thong Sandals' - Customer reviews :\n",
            "\n",
            "Customer Name      Review\n",
            "-----------------  ------------------------------------------\n",
            "sushant kumar      Same size with different length\n",
            "Utkarsh Agarwal    good\n",
            "Venugopal Pillai   Order at least one size bigger\n",
            "Dewan G.           150 ka chappal hai.. But mast hai\n",
            "Rajdeepsinh        Best flip flop.\n",
            "TRIPTI P.          Love the product for the price and quality\n",
            "DG                 It's a different shape\n",
            "TARUN ABHINAY Raj  Not  suitable for outdoor usage\n",
            "Rajesh G           Comfortable to walk\n",
            "kasiah             Useful\n"
          ],
          "name": "stdout"
        }
      ]
    }
  ]
}